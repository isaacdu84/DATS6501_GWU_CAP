{
 "cells": [
  {
   "cell_type": "code",
   "execution_count": 2,
   "metadata": {},
   "outputs": [
    {
     "name": "stdout",
     "output_type": "stream",
     "text": [
      "PyTables is not installed. No support for HDF output.\n"
     ]
    }
   ],
   "source": [
    "import os\n",
    "os.chdir(\"D:/DataScienceProjects/DATS6501_CapstoneProject/DATS6501_GWU_CAP\")\n",
    "\n",
    "import networkx as nx\n",
    "import numpy as np\n",
    "import pandas as pd\n",
    "import time\n",
    "import datetime\n",
    "from random import randint\n",
    "#import math\n",
    "#import random\n",
    "#from osgeo import osr, ogr\n",
    "from sklearn import preprocessing, neural_network, tree, ensemble, neighbors, model_selection, metrics\n",
    "from collections import defaultdict\n",
    "from sklearn.neighbors.nearest_centroid import NearestCentroid\n",
    "from sklearn.neural_network import MLPClassifier, MLPRegressor\n",
    "from sklearn.ensemble import RandomForestClassifier, RandomForestRegressor, AdaBoostRegressor, GradientBoostingRegressor, GradientBoostingClassifier, AdaBoostClassifier\n",
    "from sklearn.linear_model import LinearRegression, LogisticRegression\n",
    "from sklearn.model_selection import train_test_split\n",
    "#import pickle\n",
    "import cPickle as pickle\n",
    "import zipfile\n",
    "from sklearn.feature_selection import SelectFromModel, mutual_info_regression, mutual_info_classif, RFECV, RFE\n",
    "from sklearn.ensemble import ExtraTreesClassifier\n",
    "from sklearn.svm import LinearSVC, LinearSVR, SVR\n",
    "from sklearn.neighbors import KNeighborsRegressor, KNeighborsClassifier\n",
    "from sklearn.model_selection import cross_val_score\n",
    "import matplotlib.pyplot as plt\n",
    "from sklearn.model_selection import KFold, GridSearchCV\n",
    "from pyproj import Proj, transform\n",
    "\n",
    "import utility_functions"
   ]
  },
  {
   "cell_type": "markdown",
   "metadata": {},
   "source": [
    "## Build crash model\n",
    "### Part I Variable preprocessing\n",
    "\n",
    "First, crash reports need to be processed and ingeste.\n",
    "Here only crash IDs were used to join to the road segment.\n",
    "Preprocessing includes:\n",
    "1) calculate any latitude and longitude pairs where coordinates are available; \n",
    "2) remove any crash records without latitude and longitude pairs"
   ]
  },
  {
   "cell_type": "code",
   "execution_count": 3,
   "metadata": {
    "scrolled": true
   },
   "outputs": [
    {
     "name": "stdout",
     "output_type": "stream",
     "text": [
      "Imputed 32518 lat, lon pairs\n",
      "820 records were removed.\n",
      "Imputed 44702 lat, lon pairs\n",
      "0 records were removed.\n"
     ]
    },
    {
     "name": "stderr",
     "output_type": "stream",
     "text": [
      "C:\\Users\\isaac\\AppData\\Local\\conda\\conda\\envs\\py27\\lib\\site-packages\\pandas\\core\\frame.py:3781: SettingWithCopyWarning: \n",
      "A value is trying to be set on a copy of a slice from a DataFrame\n",
      "\n",
      "See the caveats in the documentation: http://pandas.pydata.org/pandas-docs/stable/indexing.html#indexing-view-versus-copy\n",
      "  return super(DataFrame, self).rename(**kwargs)\n",
      "C:\\Users\\isaac\\AppData\\Local\\conda\\conda\\envs\\py27\\lib\\site-packages\\pandas\\core\\frame.py:3697: SettingWithCopyWarning: \n",
      "A value is trying to be set on a copy of a slice from a DataFrame\n",
      "\n",
      "See the caveats in the documentation: http://pandas.pydata.org/pandas-docs/stable/indexing.html#indexing-view-versus-copy\n",
      "  errors=errors)\n"
     ]
    }
   ],
   "source": [
    "#read in: 'CrashID','TSCrashCoordinateX','TSCrashCoordinateY','TSCrashLatitude','TSCrashLongitude', 'TotalFatals', 'TotalInjured',\n",
    "#'DayofWeek', 'CrashHour', 'CrashSeverityCd' will be needed when running prediction\n",
    "rawcrash2015 = pd.read_csv('./rawInput/CRASH2015.csv', usecols=[1, 44, 45, 46, 47, 13, 14])#7, 8, 67\n",
    "rawcrash2016 = pd.read_csv('./rawInput/CRASH2016.csv', usecols=[1, 44, 45, 46, 47, 13, 14])\n",
    "\n",
    "crash2015 = utility_functions.crash_preprocessing(rawcrash2015)\n",
    "crash2016 = utility_functions.crash_preprocessing(rawcrash2016)\n",
    "\n",
    "crash2015.rename(index=str, columns={\"TSCrashLatitude\": \"Latitude\", \"TSCrashLongitude\":\"Longitude\"}, inplace=True)\n",
    "crash2016.rename(index=str, columns={\"TSCrashLatitude\": \"Latitude\", \"TSCrashLongitude\":\"Longitude\"}, inplace=True)\n",
    "crash2015.drop(['TSCrashCoordinateX','TSCrashCoordinateY'],axis=1,inplace=True)\n",
    "crash2016.drop(['TSCrashCoordinateX','TSCrashCoordinateY'],axis=1,inplace=True)"
   ]
  },
  {
   "cell_type": "markdown",
   "metadata": {},
   "source": [
    "Next, the 311 requests are ingested and screened for bad records, as well as for false requests (i.e. service requsts submitted but not located)."
   ]
  },
  {
   "cell_type": "code",
   "execution_count": 4,
   "metadata": {},
   "outputs": [],
   "source": [
    "#311 Potholes requests\n",
    "Potholes = pd.read_csv('./rawInput/311_Service_Requests_Pot_Holes_Reported.csv', usecols=[0,3,6,16,17])\n",
    "\n",
    "exclude1 = ' No Problem Found'\n",
    "exclude2 = 'No Potholes Found'\n",
    "exclude3 = 'No Problem Found'\n",
    "exclude4 = 'No Such Address Found'\n",
    "\n",
    "Potholes = Potholes[(Potholes['MOST RECENT ACTION'] != exclude1) & (Potholes ['MOST RECENT ACTION'] != exclude2) & (Potholes ['MOST RECENT ACTION'] != exclude3)\n",
    "                    & (Potholes['MOST RECENT ACTION'] != exclude4)]\n",
    "Potholes.reset_index(drop=True, inplace=True)\n",
    "\n",
    "utility_functions.extract_year(Potholes)\n",
    "\n",
    "Potholes2015 = Potholes[Potholes['CREATION YEAR'] == 2015]\n",
    "Potholes2016 = Potholes[Potholes['CREATION YEAR'] == 2016]\n",
    "Potholes2015.rename(index=str, columns={\"LATITUDE\": \"Latitude\", \"LONGITUDE\":\"Longitude\"}, inplace=True)\n",
    "Potholes2016.rename(index=str, columns={\"LATITUDE\": \"Latitude\", \"LONGITUDE\":\"Longitude\"}, inplace=True)\n",
    "\n",
    "#Street light more than one out\n",
    "StreetLight_all = pd.read_csv('./rawInput/311_Service_Requests_Street_Lights_All_Out.csv', usecols=[0,3,12,13])\n",
    "\n",
    "utility_functions.extract_year(StreetLight_all)\n",
    "StreetLight_all2015 = StreetLight_all[StreetLight_all['CREATION YEAR'] == 2015]\n",
    "StreetLight_all2016 = StreetLight_all[StreetLight_all['CREATION YEAR'] == 2016]\n",
    "StreetLight_all2015.reset_index(drop=True,inplace=True)\n",
    "StreetLight_all2016.reset_index(drop=True,inplace=True)\n",
    "\n",
    "#Street light one out\n",
    "StreetLight_one = pd.read_csv('./rawInput/311_Service_Requests_Street_Lights_One_Out.csv', usecols=[0,3,12,13])\n",
    "\n",
    "utility_functions.extract_year(StreetLight_one)\n",
    "StreetLight_one2015 = StreetLight_one[StreetLight_one['CREATION YEAR'] == 2015]\n",
    "StreetLight_one2016 = StreetLight_one[StreetLight_one['CREATION YEAR'] == 2016]\n",
    "StreetLight_one2015.reset_index(drop=True,inplace=True)\n",
    "StreetLight_one2016.reset_index(drop=True,inplace=True)\n",
    "\n",
    "#Tree debris\n",
    "Tree_debris = pd.read_csv('./rawInput/311_Service_Requests_Tree_Debris.csv', usecols=[0,3,15,16])\n",
    "\n",
    "utility_functions.extract_year(Tree_debris)\n",
    "Tree_debris2015 = Tree_debris[Tree_debris['CREATION YEAR'] == 2015]\n",
    "Tree_debris2016 = Tree_debris[Tree_debris['CREATION YEAR'] == 2016]\n",
    "Tree_debris2015.reset_index(drop=True,inplace=True)\n",
    "Tree_debris2016.reset_index(drop=True,inplace=True)\n",
    "\n",
    "#Tree trims\n",
    "Tree_trims = pd.read_csv('./rawInput/311_Service_Requests_Tree_Trims.csv', usecols=[0,3,13,14])\n",
    "\n",
    "utility_functions.extract_year(Tree_trims)\n",
    "Tree_trims2015 = Tree_trims[Tree_trims['CREATION YEAR'] == 2015]\n",
    "Tree_trims2016 = Tree_trims[Tree_trims['CREATION YEAR'] == 2016]\n",
    "Tree_trims2015.reset_index(drop=True,inplace=True)\n",
    "Tree_trims2016.reset_index(drop=True,inplace=True)"
   ]
  },
  {
   "cell_type": "markdown",
   "metadata": {},
   "source": [
    "### Part II attach features to the road network and process into useful features"
   ]
  },
  {
   "cell_type": "code",
   "execution_count": 5,
   "metadata": {},
   "outputs": [],
   "source": [
    "#crash datasets have more than one variable to be attached, and thus considered separately\n",
    "col_crash = ['CrashID','TotalFatals', 'TotalInjured']#'DayOfWeekCode', 'CrashHour','CrashSeverityCd'\n",
    "desig_name_crash = ['CrashID', 'TotalFatals', 'TotalInjured']#'DayofWeek', 'CrashHour', 'CrashSeverity'\n",
    "#name of the dataset variable: crashID2015,crashID2016\n",
    "\n",
    "datasets2015 = [Potholes2015, StreetLight_all2015, StreetLight_one2015, Tree_debris2015, Tree_trims2015]\n",
    "datasets2016 = [Potholes2016, StreetLight_all2016, StreetLight_one2016, Tree_debris2016, Tree_trims2016]\n",
    "\n",
    "#data columns to be attached to the road network and their designated name in the graph object\n",
    "data = ['SERVICE REQUEST NUMBER', 'Service Request Number', 'Service Request Number', 'Service Request Number', 'Service Request Number']\n",
    "desig_name = ['Potholes','StreetLightAll','StreetLightOne','TreeDeb','TreeTrim']"
   ]
  },
  {
   "cell_type": "code",
   "execution_count": 6,
   "metadata": {},
   "outputs": [],
   "source": [
    "#load the road network graphs that are already filled with AADT from the previous model\n",
    "G15 = pickle.load(open(\"./output/HwyAADT_filled2015.p\", 'rb'))\n",
    "G16 = pickle.load(open(\"./output/HwyAADT_filled2016.p\", 'rb'))"
   ]
  },
  {
   "cell_type": "code",
   "execution_count": 7,
   "metadata": {},
   "outputs": [
    {
     "name": "stdout",
     "output_type": "stream",
     "text": [
      "0.0440001487732 seconds to extract the lat/lons of all the road segments.\n"
     ]
    },
    {
     "name": "stderr",
     "output_type": "stream",
     "text": [
      "utility_functions.py:171: RuntimeWarning: invalid value encountered in divide\n",
      "  (p2y - p1y) ** 2 + (p2x - p1x) ** 2)\n"
     ]
    },
    {
     "name": "stdout",
     "output_type": "stream",
     "text": [
      "196.637999773 seconds to attach 89576 records.\n",
      "0.421999931335 seconds to extract the lat/lons of all the road segments.\n"
     ]
    },
    {
     "name": "stderr",
     "output_type": "stream",
     "text": [
      "utility_functions.py:176: RuntimeWarning: invalid value encountered in less_equal\n",
      "  p1y_greater_than = abs(p1y) <= abs(y)  # p1y <= y\n",
      "utility_functions.py:177: RuntimeWarning: invalid value encountered in less_equal\n",
      "  p2y_less_than = abs(y) <= abs(p2y)  # y <= p2y\n"
     ]
    },
    {
     "name": "stdout",
     "output_type": "stream",
     "text": [
      "220.644999981 seconds to attach 97563 records.\n"
     ]
    }
   ],
   "source": [
    "#attach the crash record information to the road network\n",
    "utility_functions.attach_crash(G15, crash2015, col_crash, desig_name_crash)\n",
    "utility_functions.attach_crash(G16, crash2016, col_crash, desig_name_crash)"
   ]
  },
  {
   "cell_type": "code",
   "execution_count": 8,
   "metadata": {
    "scrolled": true
   },
   "outputs": [
    {
     "name": "stdout",
     "output_type": "stream",
     "text": [
      "0.0539999008179 seconds to extract the lat/lons of all the road segments.\n"
     ]
    },
    {
     "name": "stderr",
     "output_type": "stream",
     "text": [
      "utility_functions.py:174: RuntimeWarning: invalid value encountered in less_equal\n",
      "  p1x_greater_than = abs(p1x) <= abs(x)  # p1x <= x\n",
      "utility_functions.py:175: RuntimeWarning: invalid value encountered in less_equal\n",
      "  p2x_less_than = abs(x) <= abs(p2x)  # x <= p2x\n"
     ]
    },
    {
     "name": "stdout",
     "output_type": "stream",
     "text": [
      "90.4719998837 seconds to attach 55895 records\n",
      "31.3890001774 seconds to attach 18634 records\n",
      "150.018000126 seconds to attach 90675 records\n",
      "28.6840000153 seconds to attach 17070 records\n",
      "66.8790001869 seconds to attach 39610 records\n",
      "0.59500002861 seconds to extract the lat/lons of all the road segments.\n",
      "95.4779999256 seconds to attach 55895 records\n",
      "32.0550000668 seconds to attach 18634 records\n",
      "155.914000034 seconds to attach 90675 records\n",
      "29.5130000114 seconds to attach 17070 records\n",
      "67.396999836 seconds to attach 39610 records\n"
     ]
    }
   ],
   "source": [
    "#attach other data to the road network\n",
    "utility_functions.attach_other(G15, datasets2015, data, desig_name)\n",
    "utility_functions.attach_other(G16, datasets2015, data, desig_name)"
   ]
  },
  {
   "cell_type": "code",
   "execution_count": 9,
   "metadata": {},
   "outputs": [
    {
     "name": "stdout",
     "output_type": "stream",
     "text": [
      "12719\n",
      "12896\n"
     ]
    }
   ],
   "source": [
    "#create fields that counts the number of incidents\n",
    "utility_functions.convert_to_count(G15, 'all_info_count2015.p')\n",
    "utility_functions.convert_to_count(G16, 'all_info_count2016.p')\n",
    "\n",
    "#because in 2015 version of road network information dataset, road class is named as \"FUNC_CLASS\" compared to \"FC\" in the 2016 version\n",
    "#here rename the function class variable in 2015\n",
    "G = nx.Graph()\n",
    "G = pickle.load(open(\"./output/all_info_count2015.p\", 'rb'))\n",
    "for edge in G.edges_iter(data=True):\n",
    "    data = edge[2]\n",
    "    data['FC'] = data['FUNC_CLASS']\n",
    "    del data['FUNC_CLASS']\n",
    "pickle.dump(G, open(\"./output/all_info_count2015.p\", 'wb'))\n",
    "del G"
   ]
  },
  {
   "cell_type": "code",
   "execution_count": 10,
   "metadata": {},
   "outputs": [],
   "source": [
    "#Road segments are encoded with a unique identifier\n",
    "#Inventory number, BEG_STA, END_STA can uniquely identify a road segment, so we use the combination of these three values to generate an ID for each road segment\n",
    "G15 = nx.Graph()\n",
    "G16 = nx.Graph()\n",
    "G15 = pickle.load(open(\"./output/all_info_count2015.p\", 'rb'))\n",
    "G16 = pickle.load(open(\"./output/all_info_count2016.p\", 'rb'))\n",
    " \n",
    "#create a unique ID number for each road segment \n",
    "utility_functions.seg_encoder(G15)\n",
    "utility_functions.seg_encoder(G16)\n",
    "\n",
    "pickle.dump(G15, open(\"./output/all_info_count2015.p\", 'wb'))\n",
    "pickle.dump(G16, open(\"./output/all_info_count2016.p\", 'wb'))"
   ]
  },
  {
   "cell_type": "markdown",
   "metadata": {},
   "source": [
    "### Part III Create training and testing sets"
   ]
  },
  {
   "cell_type": "code",
   "execution_count": 11,
   "metadata": {},
   "outputs": [],
   "source": [
    "#load road network and crash information\n",
    "G15 = pickle.load(open(\"./output/all_info_count2015.p\", 'rb'))\n",
    "G16 = pickle.load(open(\"./output/all_info_count2016.p\", 'rb'))\n",
    "roadnetworks = [G15, G16]\n",
    "\n",
    "crash2016 = pd.read_csv(\"./rawInput/CRASH2016.csv\", usecols=[1, 7, 8, 62])\n",
    "crash2015 = pd.read_csv(\"./rawInput/CRASH2015.csv\", usecols=[1, 7, 8, 62])\n",
    "crashreports = [crash2015, crash2016]\n",
    "\n",
    "#X_columns should be the common elements from all the raodnetworks\n",
    "X2015 = pickle.load(open(\"./output/X_Pre2015.p\", 'rb'))\n",
    "X2016 = pickle.load(open(\"./output/X_Pre2016.p\", 'rb'))\n",
    "\n",
    "X_columns = [i for i in X2015 if i in X2016] + ['FC', 'AADT'] + ['Potholes','StreetLightAll','StreetLightOne','TreeDeb','TreeTrim']"
   ]
  },
  {
   "cell_type": "code",
   "execution_count": 12,
   "metadata": {},
   "outputs": [
    {
     "name": "stdout",
     "output_type": "stream",
     "text": [
      "Exporting to csv...\n",
      "Done!\n",
      "Total number of common road segments: 17401\n",
      "30 th percentile is 1.0\n",
      "The maximum number of crashes on a road segment for the time of interest is: 470\n",
      "4889 road segments had no crashes for the time period of interest.\n"
     ]
    },
    {
     "data": {
      "image/png": "[encoded data removed]",
      "text/plain": [
       "<Figure size 432x288 with 1 Axes>"
      ]
     },
     "metadata": {},
     "output_type": "display_data"
    },
    {
     "name": "stdout",
     "output_type": "stream",
     "text": [
      "746 identical recoreds dropped.\n",
      "Cloning info for road segments...\n",
      "Elapsed time: 5.68600010872\n",
      "Creating series for hours of the day, day of week and month of the year...\n",
      "Exporting to csv...\n",
      "Done!\n"
     ]
    }
   ],
   "source": [
    "utility_functions.get_crash_for_training(X_columns, roadnetworks, crashreports)\n",
    "\n",
    "#crash counts is a dataframe with rows as the each road segment and column representing the number of crash events\n",
    "crash_counts = utility_functions.get_crash_number_distribution(roadnetworks, 30, True)\n",
    "utility_functions.get_nocrash_for_training(X_columns, roadnetworks, crash_counts, threshold=0)"
   ]
  },
  {
   "cell_type": "markdown",
   "metadata": {},
   "source": [
    "### Part IV train the model"
   ]
  },
  {
   "cell_type": "code",
   "execution_count": 13,
   "metadata": {},
   "outputs": [
    {
     "name": "stderr",
     "output_type": "stream",
     "text": [
      "C:\\Users\\isaac\\AppData\\Local\\conda\\conda\\envs\\py27\\lib\\site-packages\\IPython\\core\\interactiveshell.py:2714: DtypeWarning: Columns (12,37) have mixed types. Specify dtype option on import or set low_memory=False.\n",
      "  interactivity=interactivity, compiler=compiler, result=result)\n",
      "C:\\Users\\isaac\\AppData\\Local\\conda\\conda\\envs\\py27\\lib\\site-packages\\IPython\\core\\interactiveshell.py:2714: DtypeWarning: Columns (4,37) have mixed types. Specify dtype option on import or set low_memory=False.\n",
      "  interactivity=interactivity, compiler=compiler, result=result)\n"
     ]
    }
   ],
   "source": [
    "#load the samples\n",
    "positive = pd.read_csv(\"AllCrashes.csv\")\n",
    "negative = pd.read_csv(\"NoCrashes.csv\")"
   ]
  },
  {
   "cell_type": "code",
   "execution_count": 14,
   "metadata": {},
   "outputs": [],
   "source": [
    "#some feature engineering is needed to preserve the cyclical nature of variables such as hour of the day and day of the week\n",
    "positive['hr_sin'] = np.sin(positive.CrashHour*2*np.pi/24)\n",
    "positive['hr_cos'] = np.cos(positive.CrashHour*2*np.pi/24)\n",
    "positive['day_sin'] = np.sin((positive.DayOfWeekCode-1)*2*np.pi/7)\n",
    "positive['day_cos'] = np.cos((positive.DayOfWeekCode-1)*2*np.pi/7)\n",
    "\n",
    "negative['hr_sin'] = np.sin(negative.CrashHour*2*np.pi/24)\n",
    "negative['hr_cos'] = np.cos(negative.CrashHour*2*np.pi/24)\n",
    "negative['day_sin'] = np.sin((negative.DayOfWeekCode-1)*2*np.pi/7)\n",
    "negative['day_cos'] = np.cos((negative.DayOfWeekCode-1)*2*np.pi/7)"
   ]
  },
  {
   "cell_type": "markdown",
   "metadata": {},
   "source": [
    "the negative samples did not have weather condition feature, therefore the unique weather conditions that appear in positive samples will be randomly sampled and added to the negative sample set.\n",
    "\n",
    "However, weather condition was later determined to be a predictor that potentially caused biased prediction and thus excluded from the model. \n",
    "Explanation: weather conditions are reported with each crash. However, the nature of the weather determines that certain weather conditions such as rain and snow account for only a smaller portion of the entire weather types. This becomes a major confounding factor when using weather condition as a predictor."
   ]
  },
  {
   "cell_type": "code",
   "execution_count": 15,
   "metadata": {},
   "outputs": [],
   "source": [
    "weatherCd = list(positive['WeatherCond'].unique())\n",
    "i = 0\n",
    "weather_neg = []\n",
    "for i in xrange(negative.shape[0]):\n",
    "    idx = randint(0,len(weatherCd)-1)\n",
    "    weather_neg.append(weatherCd[idx])\n",
    "negative['WeatherCond'] = weather_neg"
   ]
  },
  {
   "cell_type": "code",
   "execution_count": 16,
   "metadata": {},
   "outputs": [],
   "source": [
    "#predictors to be included in the final model. Feature selection steps are not shown here.\n",
    "X_columns = ['FC','SURF_TYP','X','Y','SEG_LENGTH','AADT','LNS','BEG_STA','END_STA',\n",
    "             'SURF_WTH','MED_WTH','StreetLightAll','StreetLightOne','TreeDeb','TreeTrim','Potholes','hr_sin','hr_cos','day_sin','day_cos']#'PRK_LT','PRK_RT','WeatherCond'\n",
    "categorical = ['FC','SURF_TYP']#'PRK_LT','PRK_RT','WeatherCond'\n",
    "floating = ['X','Y','SEG_LENGTH','AADT','hr_sin','hr_cos','day_sin','day_cos','BEG_STA','END_STA']#\n",
    "integer = ['LNS','SURF_WTH','MED_WTH','StreetLightAll','StreetLightOne','TreeDeb','TreeTrim','Potholes']"
   ]
  },
  {
   "cell_type": "code",
   "execution_count": 18,
   "metadata": {},
   "outputs": [
    {
     "name": "stdout",
     "output_type": "stream",
     "text": [
      "0.971314933108\n"
     ]
    }
   ],
   "source": [
    "#because the entire sample size is large, especially the synthetic negative samples. I am only taking 20% of the entire training set\n",
    "crashX, crashY, ohe, labEncoder, sscaler = utility_functions.get_training_data(X_columns, categorical, floating, integer, positive, negative, sample_size=1.0, seed=9527)\n",
    "X_train,X_test,Y_train,Y_test=train_test_split(crashX,crashY,test_size=0.3,shuffle=True,random_state=1234)\n",
    "\n",
    "rf = RandomForestClassifier(n_estimators=50,random_state=9527)\n",
    "rf.fit(X_train, Y_train)\n",
    "print rf.score(X_test, Y_test)"
   ]
  },
  {
   "cell_type": "code",
   "execution_count": 19,
   "metadata": {},
   "outputs": [],
   "source": [
    "#train the model using the entire dataset\n",
    "crashX, crashY, ohe, labEncoder, sscaler = utility_functions.get_training_data(X_columns, categorical, floating, integer, positive, negative, sample_size=1.0, seed=1234)\n",
    "rf = RandomForestClassifier(n_estimators=50,random_state=9527)\n",
    "rf.fit(crashX, crashY)\n",
    "\n",
    "pickle.dump(rf, open('./output/randomforest_crash.p', 'wb'))\n",
    "pickle.dump(ohe, open('./output/ohe.p', 'wb'))\n",
    "pickle.dump(labEncoder, open('./output/labEncoder.p', 'wb'))\n",
    "pickle.dump(sscaler, open('./output/sscaler.p', 'wb'))"
   ]
  },
  {
   "cell_type": "code",
   "execution_count": 5,
   "metadata": {},
   "outputs": [
    {
     "data": {
      "image/png": "[encoded data removed]",
      "text/plain": [
       "<Figure size 460.8x403.2 with 1 Axes>"
      ]
     },
     "metadata": {},
     "output_type": "display_data"
    }
   ],
   "source": [
    "#ignore these two lines (jupyter notebook theme settings)\n",
    "#from jupyterthemes import jtplot\n",
    "#jtplot.style(theme='monokai')\n",
    "\n",
    "#export the feature importance calculate\n",
    "#the OHE_decoder function was coded such that it works for multiple models. Latitude and longitude were required in the AADT model, so \"None\" is used here to fill the place for \"X\" and \"Y\"\n",
    "feature_importance = utility_functions.OHE_decoder(None, None, categorical,floating+integer,ohe,rf.feature_importances_,aggregate='average',visualize=True,output=True)"
   ]
  },
  {
   "cell_type": "code",
   "execution_count": 6,
   "metadata": {},
   "outputs": [],
   "source": [
    "feature_importance.sort_values(by='Values',ascending=False, inplace=True)\n",
    "feature_importance.to_csv('feature_importance.csv',index_label=False)"
   ]
  },
  {
   "cell_type": "markdown",
   "metadata": {},
   "source": [
    "Just trying other visualization method... (Bokeh)"
   ]
  },
  {
   "cell_type": "code",
   "execution_count": 11,
   "metadata": {},
   "outputs": [
    {
     "data": {
      "text/html": [
       "\n",
       "    <div class=\"bk-root\">\n",
       "        <a href=\"https://bokeh.pydata.org\" target=\"_blank\" class=\"bk-logo bk-logo-small bk-logo-notebook\"></a>\n",
       "        <span id=\"dcb4c90d-ed7f-4296-bcf2-5a814e07571b\">Loading BokehJS ...</span>\n",
       "    </div>"
      ]
     },
     "metadata": {},
     "output_type": "display_data"
    },
    {
     "data": {
      "application/javascript": [
       "\n",
       "(function(root) {\n",
       "  function now() {\n",
       "    return new Date();\n",
       "  }\n",
       "\n",
       "  var force = true;\n",
       "\n",
       "  if (typeof (root._bokeh_onload_callbacks) === \"undefined\" || force === true) {\n",
       "    root._bokeh_onload_callbacks = [];\n",
       "    root._bokeh_is_loading = undefined;\n",
       "  }\n",
       "\n",
       "  var JS_MIME_TYPE = 'application/javascript';\n",
       "  var HTML_MIME_TYPE = 'text/html';\n",
       "  var EXEC_MIME_TYPE = 'application/vnd.bokehjs_exec.v0+json';\n",
       "  var CLASS_NAME = 'output_bokeh rendered_html';\n",
       "\n",
       "  /**\n",
       "   * Render data to the DOM node\n",
       "   */\n",
       "  function render(props, node) {\n",
       "    var script = document.createElement(\"script\");\n",
       "    node.appendChild(script);\n",
       "  }\n",
       "\n",
       "  /**\n",
       "   * Handle when an output is cleared or removed\n",
       "   */\n",
       "  function handleClearOutput(event, handle) {\n",
       "    var cell = handle.cell;\n",
       "\n",
       "    var id = cell.output_area._bokeh_element_id;\n",
       "    var server_id = cell.output_area._bokeh_server_id;\n",
       "    // Clean up Bokeh references\n",
       "    if (id != null && id in Bokeh.index) {\n",
       "      Bokeh.index[id].model.document.clear();\n",
       "      delete Bokeh.index[id];\n",
       "    }\n",
       "\n",
       "    if (server_id !== undefined) {\n",
       "      // Clean up Bokeh references\n",
       "      var cmd = \"from bokeh.io.state import curstate; print(curstate().uuid_to_server['\" + server_id + \"'].get_sessions()[0].document.roots[0]._id)\";\n",
       "      cell.notebook.kernel.execute(cmd, {\n",
       "        iopub: {\n",
       "          output: function(msg) {\n",
       "            var id = msg.content.text.trim();\n",
       "            if (id in Bokeh.index) {\n",
       "              Bokeh.index[id].model.document.clear();\n",
       "              delete Bokeh.index[id];\n",
       "            }\n",
       "          }\n",
       "        }\n",
       "      });\n",
       "      // Destroy server and session\n",
       "      var cmd = \"import bokeh.io.notebook as ion; ion.destroy_server('\" + server_id + \"')\";\n",
       "      cell.notebook.kernel.execute(cmd);\n",
       "    }\n",
       "  }\n",
       "\n",
       "  /**\n",
       "   * Handle when a new output is added\n",
       "   */\n",
       "  function handleAddOutput(event, handle) {\n",
       "    var output_area = handle.output_area;\n",
       "    var output = handle.output;\n",
       "\n",
       "    // limit handleAddOutput to display_data with EXEC_MIME_TYPE content only\n",
       "    if ((output.output_type != \"display_data\") || (!output.data.hasOwnProperty(EXEC_MIME_TYPE))) {\n",
       "      return\n",
       "    }\n",
       "\n",
       "    var toinsert = output_area.element.find(\".\" + CLASS_NAME.split(' ')[0]);\n",
       "\n",
       "    if (output.metadata[EXEC_MIME_TYPE][\"id\"] !== undefined) {\n",
       "      toinsert[toinsert.length - 1].firstChild.textContent = output.data[JS_MIME_TYPE];\n",
       "      // store reference to embed id on output_area\n",
       "      output_area._bokeh_element_id = output.metadata[EXEC_MIME_TYPE][\"id\"];\n",
       "    }\n",
       "    if (output.metadata[EXEC_MIME_TYPE][\"server_id\"] !== undefined) {\n",
       "      var bk_div = document.createElement(\"div\");\n",
       "      bk_div.innerHTML = output.data[HTML_MIME_TYPE];\n",
       "      var script_attrs = bk_div.children[0].attributes;\n",
       "      for (var i = 0; i < script_attrs.length; i++) {\n",
       "        toinsert[toinsert.length - 1].firstChild.setAttribute(script_attrs[i].name, script_attrs[i].value);\n",
       "      }\n",
       "      // store reference to server id on output_area\n",
       "      output_area._bokeh_server_id = output.metadata[EXEC_MIME_TYPE][\"server_id\"];\n",
       "    }\n",
       "  }\n",
       "\n",
       "  function register_renderer(events, OutputArea) {\n",
       "\n",
       "    function append_mime(data, metadata, element) {\n",
       "      // create a DOM node to render to\n",
       "      var toinsert = this.create_output_subarea(\n",
       "        metadata,\n",
       "        CLASS_NAME,\n",
       "        EXEC_MIME_TYPE\n",
       "      );\n",
       "      this.keyboard_manager.register_events(toinsert);\n",
       "      // Render to node\n",
       "      var props = {data: data, metadata: metadata[EXEC_MIME_TYPE]};\n",
       "      render(props, toinsert[toinsert.length - 1]);\n",
       "      element.append(toinsert);\n",
       "      return toinsert\n",
       "    }\n",
       "\n",
       "    /* Handle when an output is cleared or removed */\n",
       "    events.on('clear_output.CodeCell', handleClearOutput);\n",
       "    events.on('delete.Cell', handleClearOutput);\n",
       "\n",
       "    /* Handle when a new output is added */\n",
       "    events.on('output_added.OutputArea', handleAddOutput);\n",
       "\n",
       "    /**\n",
       "     * Register the mime type and append_mime function with output_area\n",
       "     */\n",
       "    OutputArea.prototype.register_mime_type(EXEC_MIME_TYPE, append_mime, {\n",
       "      /* Is output safe? */\n",
       "      safe: true,\n",
       "      /* Index of renderer in `output_area.display_order` */\n",
       "      index: 0\n",
       "    });\n",
       "  }\n",
       "\n",
       "  // register the mime type if in Jupyter Notebook environment and previously unregistered\n",
       "  if (root.Jupyter !== undefined) {\n",
       "    var events = require('base/js/events');\n",
       "    var OutputArea = require('notebook/js/outputarea').OutputArea;\n",
       "\n",
       "    if (OutputArea.prototype.mime_types().indexOf(EXEC_MIME_TYPE) == -1) {\n",
       "      register_renderer(events, OutputArea);\n",
       "    }\n",
       "  }\n",
       "\n",
       "  \n",
       "  if (typeof (root._bokeh_timeout) === \"undefined\" || force === true) {\n",
       "    root._bokeh_timeout = Date.now() + 5000;\n",
       "    root._bokeh_failed_load = false;\n",
       "  }\n",
       "\n",
       "  var NB_LOAD_WARNING = {'data': {'text/html':\n",
       "     \"<div style='background-color: #fdd'>\\n\"+\n",
       "     \"<p>\\n\"+\n",
       "     \"BokehJS does not appear to have successfully loaded. If loading BokehJS from CDN, this \\n\"+\n",
       "     \"may be due to a slow or bad network connection. Possible fixes:\\n\"+\n",
       "     \"</p>\\n\"+\n",
       "     \"<ul>\\n\"+\n",
       "     \"<li>re-rerun `output_notebook()` to attempt to load from CDN again, or</li>\\n\"+\n",
       "     \"<li>use INLINE resources instead, as so:</li>\\n\"+\n",
       "     \"</ul>\\n\"+\n",
       "     \"<code>\\n\"+\n",
       "     \"from bokeh.resources import INLINE\\n\"+\n",
       "     \"output_notebook(resources=INLINE)\\n\"+\n",
       "     \"</code>\\n\"+\n",
       "     \"</div>\"}};\n",
       "\n",
       "  function display_loaded() {\n",
       "    var el = document.getElementById(\"dcb4c90d-ed7f-4296-bcf2-5a814e07571b\");\n",
       "    if (el != null) {\n",
       "      el.textContent = \"BokehJS is loading...\";\n",
       "    }\n",
       "    if (root.Bokeh !== undefined) {\n",
       "      if (el != null) {\n",
       "        el.textContent = \"BokehJS \" + root.Bokeh.version + \" successfully loaded.\";\n",
       "      }\n",
       "    } else if (Date.now() < root._bokeh_timeout) {\n",
       "      setTimeout(display_loaded, 100)\n",
       "    }\n",
       "  }\n",
       "\n",
       "\n",
       "  function run_callbacks() {\n",
       "    try {\n",
       "      root._bokeh_onload_callbacks.forEach(function(callback) { callback() });\n",
       "    }\n",
       "    finally {\n",
       "      delete root._bokeh_onload_callbacks\n",
       "    }\n",
       "    console.info(\"Bokeh: all callbacks have finished\");\n",
       "  }\n",
       "\n",
       "  function load_libs(js_urls, callback) {\n",
       "    root._bokeh_onload_callbacks.push(callback);\n",
       "    if (root._bokeh_is_loading > 0) {\n",
       "      console.log(\"Bokeh: BokehJS is being loaded, scheduling callback at\", now());\n",
       "      return null;\n",
       "    }\n",
       "    if (js_urls == null || js_urls.length === 0) {\n",
       "      run_callbacks();\n",
       "      return null;\n",
       "    }\n",
       "    console.log(\"Bokeh: BokehJS not loaded, scheduling load and callback at\", now());\n",
       "    root._bokeh_is_loading = js_urls.length;\n",
       "    for (var i = 0; i < js_urls.length; i++) {\n",
       "      var url = js_urls[i];\n",
       "      var s = document.createElement('script');\n",
       "      s.src = url;\n",
       "      s.async = false;\n",
       "      s.onreadystatechange = s.onload = function() {\n",
       "        root._bokeh_is_loading--;\n",
       "        if (root._bokeh_is_loading === 0) {\n",
       "          console.log(\"Bokeh: all BokehJS libraries loaded\");\n",
       "          run_callbacks()\n",
       "        }\n",
       "      };\n",
       "      s.onerror = function() {\n",
       "        console.warn(\"failed to load library \" + url);\n",
       "      };\n",
       "      console.log(\"Bokeh: injecting script tag for BokehJS library: \", url);\n",
       "      document.getElementsByTagName(\"head\")[0].appendChild(s);\n",
       "    }\n",
       "  };var element = document.getElementById(\"dcb4c90d-ed7f-4296-bcf2-5a814e07571b\");\n",
       "  if (element == null) {\n",
       "    console.log(\"Bokeh: ERROR: autoload.js configured with elementid 'dcb4c90d-ed7f-4296-bcf2-5a814e07571b' but no matching script tag was found. \")\n",
       "    return false;\n",
       "  }\n",
       "\n",
       "  var js_urls = [\"https://cdn.pydata.org/bokeh/release/bokeh-0.13.0.min.js\", \"https://cdn.pydata.org/bokeh/release/bokeh-widgets-0.13.0.min.js\", \"https://cdn.pydata.org/bokeh/release/bokeh-tables-0.13.0.min.js\", \"https://cdn.pydata.org/bokeh/release/bokeh-gl-0.13.0.min.js\"];\n",
       "\n",
       "  var inline_js = [\n",
       "    function(Bokeh) {\n",
       "      Bokeh.set_log_level(\"info\");\n",
       "    },\n",
       "    \n",
       "    function(Bokeh) {\n",
       "      \n",
       "    },\n",
       "    function(Bokeh) {\n",
       "      console.log(\"Bokeh: injecting CSS: https://cdn.pydata.org/bokeh/release/bokeh-0.13.0.min.css\");\n",
       "      Bokeh.embed.inject_css(\"https://cdn.pydata.org/bokeh/release/bokeh-0.13.0.min.css\");\n",
       "      console.log(\"Bokeh: injecting CSS: https://cdn.pydata.org/bokeh/release/bokeh-widgets-0.13.0.min.css\");\n",
       "      Bokeh.embed.inject_css(\"https://cdn.pydata.org/bokeh/release/bokeh-widgets-0.13.0.min.css\");\n",
       "      console.log(\"Bokeh: injecting CSS: https://cdn.pydata.org/bokeh/release/bokeh-tables-0.13.0.min.css\");\n",
       "      Bokeh.embed.inject_css(\"https://cdn.pydata.org/bokeh/release/bokeh-tables-0.13.0.min.css\");\n",
       "    }\n",
       "  ];\n",
       "\n",
       "  function run_inline_js() {\n",
       "    \n",
       "    if ((root.Bokeh !== undefined) || (force === true)) {\n",
       "      for (var i = 0; i < inline_js.length; i++) {\n",
       "        inline_js[i].call(root, root.Bokeh);\n",
       "      }if (force === true) {\n",
       "        display_loaded();\n",
       "      }} else if (Date.now() < root._bokeh_timeout) {\n",
       "      setTimeout(run_inline_js, 100);\n",
       "    } else if (!root._bokeh_failed_load) {\n",
       "      console.log(\"Bokeh: BokehJS failed to load within specified timeout.\");\n",
       "      root._bokeh_failed_load = true;\n",
       "    } else if (force !== true) {\n",
       "      var cell = $(document.getElementById(\"dcb4c90d-ed7f-4296-bcf2-5a814e07571b\")).parents('.cell').data().cell;\n",
       "      cell.output_area.append_execute_result(NB_LOAD_WARNING)\n",
       "    }\n",
       "\n",
       "  }\n",
       "\n",
       "  if (root._bokeh_is_loading === 0) {\n",
       "    console.log(\"Bokeh: BokehJS loaded, going straight to plotting\");\n",
       "    run_inline_js();\n",
       "  } else {\n",
       "    load_libs(js_urls, function() {\n",
       "      console.log(\"Bokeh: BokehJS plotting callback run at\", now());\n",
       "      run_inline_js();\n",
       "    });\n",
       "  }\n",
       "}(window));"
      ],
      "application/vnd.bokehjs_load.v0+json": "\n(function(root) {\n  function now() {\n    return new Date();\n  }\n\n  var force = true;\n\n  if (typeof (root._bokeh_onload_callbacks) === \"undefined\" || force === true) {\n    root._bokeh_onload_callbacks = [];\n    root._bokeh_is_loading = undefined;\n  }\n\n  \n\n  \n  if (typeof (root._bokeh_timeout) === \"undefined\" || force === true) {\n    root._bokeh_timeout = Date.now() + 5000;\n    root._bokeh_failed_load = false;\n  }\n\n  var NB_LOAD_WARNING = {'data': {'text/html':\n     \"<div style='background-color: #fdd'>\\n\"+\n     \"<p>\\n\"+\n     \"BokehJS does not appear to have successfully loaded. If loading BokehJS from CDN, this \\n\"+\n     \"may be due to a slow or bad network connection. Possible fixes:\\n\"+\n     \"</p>\\n\"+\n     \"<ul>\\n\"+\n     \"<li>re-rerun `output_notebook()` to attempt to load from CDN again, or</li>\\n\"+\n     \"<li>use INLINE resources instead, as so:</li>\\n\"+\n     \"</ul>\\n\"+\n     \"<code>\\n\"+\n     \"from bokeh.resources import INLINE\\n\"+\n     \"output_notebook(resources=INLINE)\\n\"+\n     \"</code>\\n\"+\n     \"</div>\"}};\n\n  function display_loaded() {\n    var el = document.getElementById(\"dcb4c90d-ed7f-4296-bcf2-5a814e07571b\");\n    if (el != null) {\n      el.textContent = \"BokehJS is loading...\";\n    }\n    if (root.Bokeh !== undefined) {\n      if (el != null) {\n        el.textContent = \"BokehJS \" + root.Bokeh.version + \" successfully loaded.\";\n      }\n    } else if (Date.now() < root._bokeh_timeout) {\n      setTimeout(display_loaded, 100)\n    }\n  }\n\n\n  function run_callbacks() {\n    try {\n      root._bokeh_onload_callbacks.forEach(function(callback) { callback() });\n    }\n    finally {\n      delete root._bokeh_onload_callbacks\n    }\n    console.info(\"Bokeh: all callbacks have finished\");\n  }\n\n  function load_libs(js_urls, callback) {\n    root._bokeh_onload_callbacks.push(callback);\n    if (root._bokeh_is_loading > 0) {\n      console.log(\"Bokeh: BokehJS is being loaded, scheduling callback at\", now());\n      return null;\n    }\n    if (js_urls == null || js_urls.length === 0) {\n      run_callbacks();\n      return null;\n    }\n    console.log(\"Bokeh: BokehJS not loaded, scheduling load and callback at\", now());\n    root._bokeh_is_loading = js_urls.length;\n    for (var i = 0; i < js_urls.length; i++) {\n      var url = js_urls[i];\n      var s = document.createElement('script');\n      s.src = url;\n      s.async = false;\n      s.onreadystatechange = s.onload = function() {\n        root._bokeh_is_loading--;\n        if (root._bokeh_is_loading === 0) {\n          console.log(\"Bokeh: all BokehJS libraries loaded\");\n          run_callbacks()\n        }\n      };\n      s.onerror = function() {\n        console.warn(\"failed to load library \" + url);\n      };\n      console.log(\"Bokeh: injecting script tag for BokehJS library: \", url);\n      document.getElementsByTagName(\"head\")[0].appendChild(s);\n    }\n  };var element = document.getElementById(\"dcb4c90d-ed7f-4296-bcf2-5a814e07571b\");\n  if (element == null) {\n    console.log(\"Bokeh: ERROR: autoload.js configured with elementid 'dcb4c90d-ed7f-4296-bcf2-5a814e07571b' but no matching script tag was found. \")\n    return false;\n  }\n\n  var js_urls = [\"https://cdn.pydata.org/bokeh/release/bokeh-0.13.0.min.js\", \"https://cdn.pydata.org/bokeh/release/bokeh-widgets-0.13.0.min.js\", \"https://cdn.pydata.org/bokeh/release/bokeh-tables-0.13.0.min.js\", \"https://cdn.pydata.org/bokeh/release/bokeh-gl-0.13.0.min.js\"];\n\n  var inline_js = [\n    function(Bokeh) {\n      Bokeh.set_log_level(\"info\");\n    },\n    \n    function(Bokeh) {\n      \n    },\n    function(Bokeh) {\n      console.log(\"Bokeh: injecting CSS: https://cdn.pydata.org/bokeh/release/bokeh-0.13.0.min.css\");\n      Bokeh.embed.inject_css(\"https://cdn.pydata.org/bokeh/release/bokeh-0.13.0.min.css\");\n      console.log(\"Bokeh: injecting CSS: https://cdn.pydata.org/bokeh/release/bokeh-widgets-0.13.0.min.css\");\n      Bokeh.embed.inject_css(\"https://cdn.pydata.org/bokeh/release/bokeh-widgets-0.13.0.min.css\");\n      console.log(\"Bokeh: injecting CSS: https://cdn.pydata.org/bokeh/release/bokeh-tables-0.13.0.min.css\");\n      Bokeh.embed.inject_css(\"https://cdn.pydata.org/bokeh/release/bokeh-tables-0.13.0.min.css\");\n    }\n  ];\n\n  function run_inline_js() {\n    \n    if ((root.Bokeh !== undefined) || (force === true)) {\n      for (var i = 0; i < inline_js.length; i++) {\n        inline_js[i].call(root, root.Bokeh);\n      }if (force === true) {\n        display_loaded();\n      }} else if (Date.now() < root._bokeh_timeout) {\n      setTimeout(run_inline_js, 100);\n    } else if (!root._bokeh_failed_load) {\n      console.log(\"Bokeh: BokehJS failed to load within specified timeout.\");\n      root._bokeh_failed_load = true;\n    } else if (force !== true) {\n      var cell = $(document.getElementById(\"dcb4c90d-ed7f-4296-bcf2-5a814e07571b\")).parents('.cell').data().cell;\n      cell.output_area.append_execute_result(NB_LOAD_WARNING)\n    }\n\n  }\n\n  if (root._bokeh_is_loading === 0) {\n    console.log(\"Bokeh: BokehJS loaded, going straight to plotting\");\n    run_inline_js();\n  } else {\n    load_libs(js_urls, function() {\n      console.log(\"Bokeh: BokehJS plotting callback run at\", now());\n      run_inline_js();\n    });\n  }\n}(window));"
     },
     "metadata": {},
     "output_type": "display_data"
    }
   ],
   "source": [
    "from bokeh.plotting import figure\n",
    "from bokeh.io import output_notebook, show\n",
    "\n",
    "output_notebook()"
   ]
  },
  {
   "cell_type": "code",
   "execution_count": 18,
   "metadata": {},
   "outputs": [
    {
     "data": {
      "text/html": [
       "\n",
       "\n",
       "\n",
       "\n",
       "\n",
       "\n",
       "  <div class=\"bk-root\" id=\"431725eb-00dc-488d-b2a1-5f60d526014c\"></div>\n"
      ]
     },
     "metadata": {},
     "output_type": "display_data"
    },
    {
     "data": {
      "application/javascript": [
       "(function(root) {\n",
       "  function embed_document(root) {\n",
       "    \n",
       "  var docs_json = {\"5ad30daa-c1d4-4fd8-b35e-0ef892ab880c\":{\"roots\":{\"references\":[{\"attributes\":{\"formatter\":{\"id\":\"ea8d81ad-b6bc-4645-875a-e7d12886264a\",\"type\":\"BasicTickFormatter\"},\"plot\":{\"id\":\"4ee839a7-958c-4922-960e-69c0c1324161\",\"subtype\":\"Figure\",\"type\":\"Plot\"},\"ticker\":{\"id\":\"cf01c27a-efbf-409c-8756-dc43db089417\",\"type\":\"BasicTicker\"}},\"id\":\"f9a1ad4c-c356-4583-b7e0-a927a57bd047\",\"type\":\"LinearAxis\"},{\"attributes\":{\"data_source\":{\"id\":\"ac471b8e-9020-4042-bbb3-e273a07aedcb\",\"type\":\"ColumnDataSource\"},\"glyph\":{\"id\":\"f10a5bf6-0401-417b-92b0-8bcaf55bf62b\",\"type\":\"VBar\"},\"hover_glyph\":null,\"muted_glyph\":null,\"nonselection_glyph\":{\"id\":\"275247e8-e5c9-4f2e-aae0-00819552ff53\",\"type\":\"VBar\"},\"selection_glyph\":null,\"view\":{\"id\":\"490361e2-53da-4717-91f5-5f7a17161092\",\"type\":\"CDSView\"}},\"id\":\"4569c0e0-2831-4f7e-a811-4ea6674454ff\",\"type\":\"GlyphRenderer\"},{\"attributes\":{},\"id\":\"cf01c27a-efbf-409c-8756-dc43db089417\",\"type\":\"BasicTicker\"},{\"attributes\":{\"background_fill_color\":{\"value\":\"beige\"},\"below\":[{\"id\":\"f452bed5-70f2-4c7e-91b9-3161d817df6b\",\"type\":\"CategoricalAxis\"}],\"left\":[{\"id\":\"f9a1ad4c-c356-4583-b7e0-a927a57bd047\",\"type\":\"LinearAxis\"}],\"plot_height\":300,\"renderers\":[{\"id\":\"f452bed5-70f2-4c7e-91b9-3161d817df6b\",\"type\":\"CategoricalAxis\"},{\"id\":\"a750b85d-8136-4b6a-a524-9de667894cf7\",\"type\":\"Grid\"},{\"id\":\"f9a1ad4c-c356-4583-b7e0-a927a57bd047\",\"type\":\"LinearAxis\"},{\"id\":\"4ef42937-890c-48ba-ad6a-0521fb73b9a4\",\"type\":\"Grid\"},{\"id\":\"4569c0e0-2831-4f7e-a811-4ea6674454ff\",\"type\":\"GlyphRenderer\"}],\"title\":{\"id\":\"b4b2e435-a0b6-4cf4-890f-f28af7cfe750\",\"type\":\"Title\"},\"toolbar\":{\"id\":\"44c1e1e1-f09a-40f6-bf5a-e626362e66cb\",\"type\":\"Toolbar\"},\"toolbar_location\":null,\"x_range\":{\"id\":\"0c8496ab-a1e9-40d5-af30-004b827498ce\",\"type\":\"FactorRange\"},\"x_scale\":{\"id\":\"bdaa1522-94a8-41fb-a8ac-53711ec97221\",\"type\":\"CategoricalScale\"},\"y_range\":{\"id\":\"fce0b9fb-dfa3-4ab7-bf20-129861a04ea5\",\"type\":\"DataRange1d\"},\"y_scale\":{\"id\":\"95e7466d-2c3d-4f8d-9073-8e46d9beeb37\",\"type\":\"LinearScale\"}},\"id\":\"4ee839a7-958c-4922-960e-69c0c1324161\",\"subtype\":\"Figure\",\"type\":\"Plot\"},{\"attributes\":{\"plot\":null,\"text\":\"Feature Importance\"},\"id\":\"b4b2e435-a0b6-4cf4-890f-f28af7cfe750\",\"type\":\"Title\"},{\"attributes\":{},\"id\":\"3515124a-7fdb-43c0-95a4-7174d68941c3\",\"type\":\"CategoricalTickFormatter\"},{\"attributes\":{},\"id\":\"39919bfd-2a5d-4e10-8343-f4406d2aa514\",\"type\":\"UnionRenderers\"},{\"attributes\":{\"dimension\":1,\"plot\":{\"id\":\"4ee839a7-958c-4922-960e-69c0c1324161\",\"subtype\":\"Figure\",\"type\":\"Plot\"},\"ticker\":{\"id\":\"cf01c27a-efbf-409c-8756-dc43db089417\",\"type\":\"BasicTicker\"}},\"id\":\"4ef42937-890c-48ba-ad6a-0521fb73b9a4\",\"type\":\"Grid\"},{\"attributes\":{},\"id\":\"41efa9c8-a5d1-4ce6-8eb6-a72e252f940e\",\"type\":\"CategoricalTicker\"},{\"attributes\":{\"grid_line_color\":{\"value\":null},\"plot\":{\"id\":\"4ee839a7-958c-4922-960e-69c0c1324161\",\"subtype\":\"Figure\",\"type\":\"Plot\"},\"ticker\":{\"id\":\"41efa9c8-a5d1-4ce6-8eb6-a72e252f940e\",\"type\":\"CategoricalTicker\"}},\"id\":\"a750b85d-8136-4b6a-a524-9de667894cf7\",\"type\":\"Grid\"},{\"attributes\":{\"formatter\":{\"id\":\"3515124a-7fdb-43c0-95a4-7174d68941c3\",\"type\":\"CategoricalTickFormatter\"},\"major_label_orientation\":1.0,\"plot\":{\"id\":\"4ee839a7-958c-4922-960e-69c0c1324161\",\"subtype\":\"Figure\",\"type\":\"Plot\"},\"ticker\":{\"id\":\"41efa9c8-a5d1-4ce6-8eb6-a72e252f940e\",\"type\":\"CategoricalTicker\"}},\"id\":\"f452bed5-70f2-4c7e-91b9-3161d817df6b\",\"type\":\"CategoricalAxis\"},{\"attributes\":{},\"id\":\"95e7466d-2c3d-4f8d-9073-8e46d9beeb37\",\"type\":\"LinearScale\"},{\"attributes\":{\"callback\":null,\"data\":{\"Values\":{\"__ndarray__\":\"Ae9x7u+Qyz9Ku17d7fnCP1VvEqjoGbQ/zUT98HAHsj89Hw7jfI+xP9y6L80r87A/HeKLqatVqT+6xZdiwJSoP0jVAPBnH6g/xEbiNNPcnj+fJJ1wETuePwaU/Rg325s/Rqksd916iz+FiPwed2CGP8YQqYZGuYM/odAVJKqjgz8IF6DitzB+PwidJnMHBHk/Egw+EuX4dD8+2QYtGDVWPw==\",\"dtype\":\"float64\",\"shape\":[20]},\"Variable\":[\"StreetLightAll\",\"LNS\",\"MED_WTH\",\"END_STA\",\"day_sin\",\"SEG_LENGTH\",\"Y\",\"X\",\"AADT\",\"day_cos\",\"hr_cos\",\"SURF_WTH\",\"TreeDeb\",\"StreetLightOne\",\"BEG_STA\",\"hr_sin\",\"TreeTrim\",\"FC\",\"Potholes\",\"SURF_TYP\"],\"index\":[8,6,7,19,18,5,14,15,12,11,9,16,13,17,4,2,3,10,0,1]},\"selected\":{\"id\":\"e4a9359f-ce9a-4416-843f-5213d8ebe334\",\"type\":\"Selection\"},\"selection_policy\":{\"id\":\"39919bfd-2a5d-4e10-8343-f4406d2aa514\",\"type\":\"UnionRenderers\"}},\"id\":\"ac471b8e-9020-4042-bbb3-e273a07aedcb\",\"type\":\"ColumnDataSource\"},{\"attributes\":{},\"id\":\"ea8d81ad-b6bc-4645-875a-e7d12886264a\",\"type\":\"BasicTickFormatter\"},{\"attributes\":{},\"id\":\"bdaa1522-94a8-41fb-a8ac-53711ec97221\",\"type\":\"CategoricalScale\"},{\"attributes\":{\"callback\":null,\"factors\":[\"StreetLightAll\",\"LNS\",\"MED_WTH\",\"END_STA\",\"day_sin\",\"SEG_LENGTH\",\"Y\",\"X\",\"AADT\",\"day_cos\",\"hr_cos\",\"SURF_WTH\",\"TreeDeb\",\"StreetLightOne\",\"BEG_STA\",\"hr_sin\",\"TreeTrim\",\"FC\",\"Potholes\",\"SURF_TYP\"]},\"id\":\"0c8496ab-a1e9-40d5-af30-004b827498ce\",\"type\":\"FactorRange\"},{\"attributes\":{\"fill_alpha\":{\"value\":0.1},\"fill_color\":{\"value\":\"#1f77b4\"},\"line_alpha\":{\"value\":0.1},\"line_color\":{\"value\":\"#1f77b4\"},\"top\":{\"field\":\"Values\"},\"width\":{\"value\":0.9},\"x\":{\"field\":\"Variable\"}},\"id\":\"275247e8-e5c9-4f2e-aae0-00819552ff53\",\"type\":\"VBar\"},{\"attributes\":{},\"id\":\"e4a9359f-ce9a-4416-843f-5213d8ebe334\",\"type\":\"Selection\"},{\"attributes\":{\"callback\":null,\"start\":0},\"id\":\"fce0b9fb-dfa3-4ab7-bf20-129861a04ea5\",\"type\":\"DataRange1d\"},{\"attributes\":{\"fill_color\":{\"value\":\"lightblue\"},\"line_color\":{\"value\":\"#1f77b4\"},\"top\":{\"field\":\"Values\"},\"width\":{\"value\":0.9},\"x\":{\"field\":\"Variable\"}},\"id\":\"f10a5bf6-0401-417b-92b0-8bcaf55bf62b\",\"type\":\"VBar\"},{\"attributes\":{\"active_drag\":\"auto\",\"active_inspect\":\"auto\",\"active_multi\":null,\"active_scroll\":\"auto\",\"active_tap\":\"auto\"},\"id\":\"44c1e1e1-f09a-40f6-bf5a-e626362e66cb\",\"type\":\"Toolbar\"},{\"attributes\":{\"source\":{\"id\":\"ac471b8e-9020-4042-bbb3-e273a07aedcb\",\"type\":\"ColumnDataSource\"}},\"id\":\"490361e2-53da-4717-91f5-5f7a17161092\",\"type\":\"CDSView\"}],\"root_ids\":[\"4ee839a7-958c-4922-960e-69c0c1324161\"]},\"title\":\"Bokeh Application\",\"version\":\"0.13.0\"}};\n",
       "  var render_items = [{\"docid\":\"5ad30daa-c1d4-4fd8-b35e-0ef892ab880c\",\"roots\":{\"4ee839a7-958c-4922-960e-69c0c1324161\":\"431725eb-00dc-488d-b2a1-5f60d526014c\"}}];\n",
       "  root.Bokeh.embed.embed_items_notebook(docs_json, render_items);\n",
       "\n",
       "  }\n",
       "  if (root.Bokeh !== undefined) {\n",
       "    embed_document(root);\n",
       "  } else {\n",
       "    var attempts = 0;\n",
       "    var timer = setInterval(function(root) {\n",
       "      if (root.Bokeh !== undefined) {\n",
       "        embed_document(root);\n",
       "        clearInterval(timer);\n",
       "      }\n",
       "      attempts++;\n",
       "      if (attempts > 100) {\n",
       "        console.log(\"Bokeh: ERROR: Unable to run BokehJS code because BokehJS library is missing\")\n",
       "        clearInterval(timer);\n",
       "      }\n",
       "    }, 10, root)\n",
       "  }\n",
       "})(window);"
      ],
      "application/vnd.bokehjs_exec.v0+json": ""
     },
     "metadata": {
      "application/vnd.bokehjs_exec.v0+json": {
       "id": "4ee839a7-958c-4922-960e-69c0c1324161"
      }
     },
     "output_type": "display_data"
    }
   ],
   "source": [
    "p = figure(x_range=feature_importance['Variable'], plot_height=300, title=\"Feature Importance\",\n",
    "           toolbar_location=None, tools=\"\")\n",
    "\n",
    "p.background_fill_color = 'beige'\n",
    "p.vbar(x='Variable', top='Values', width=0.9, source=feature_importance, fill_color='lightblue')\n",
    "\n",
    "p.xgrid.grid_line_color = None\n",
    "p.y_range.start = 0\n",
    "p.xaxis.major_label_orientation = 1.0\n",
    "\n",
    "show(p)"
   ]
  }
 ],
 "metadata": {
  "kernelspec": {
   "display_name": "Python 2",
   "language": "python",
   "name": "python2"
  },
  "language_info": {
   "codemirror_mode": {
    "name": "ipython",
    "version": 2
   },
   "file_extension": ".py",
   "mimetype": "text/x-python",
   "name": "python",
   "nbconvert_exporter": "python",
   "pygments_lexer": "ipython2",
   "version": "2.7.15"
  }
 },
 "nbformat": 4,
 "nbformat_minor": 2
}
