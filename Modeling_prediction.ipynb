{
 "cells": [
  {
   "cell_type": "code",
   "execution_count": 1,
   "metadata": {},
   "outputs": [
    {
     "name": "stdout",
     "output_type": "stream",
     "text": [
      "PyTables is not installed. No support for HDF output.\n"
     ]
    }
   ],
   "source": [
    "import os\n",
    "os.chdir(\"D:/DataScienceProjects/DATS6501_CapstoneProject/DATS6501_GWU_CAP\")\n",
    "\n",
    "import networkx as nx\n",
    "import numpy as np\n",
    "import pandas as pd\n",
    "import time\n",
    "import datetime\n",
    "from sklearn import preprocessing, neural_network, tree, ensemble, neighbors, model_selection, metrics\n",
    "from collections import defaultdict\n",
    "from sklearn.ensemble import RandomForestClassifier, RandomForestRegressor, AdaBoostRegressor, GradientBoostingRegressor, GradientBoostingClassifier, AdaBoostClassifier\n",
    "from sklearn.linear_model import LinearRegression, LogisticRegression\n",
    "from sklearn.tree import DecisionTreeRegressor\n",
    "from sklearn.model_selection import train_test_split\n",
    "import pickle\n",
    "import zipfile\n",
    "from sklearn.feature_selection import SelectFromModel, mutual_info_regression, mutual_info_classif, RFECV, RFE\n",
    "from sklearn.ensemble import ExtraTreesClassifier\n",
    "from sklearn.svm import LinearSVC, LinearSVR, SVR\n",
    "from sklearn.neighbors import KNeighborsRegressor, KNeighborsClassifier\n",
    "from sklearn.model_selection import cross_val_score\n",
    "import matplotlib.pyplot as plt\n",
    "from sklearn.model_selection import KFold, GridSearchCV\n",
    "import csv , json\n",
    "from geojson import Feature, LineString, FeatureCollection\n",
    "\n",
    "import utility_functions"
   ]
  },
  {
   "cell_type": "markdown",
   "metadata": {},
   "source": [
    "Utility functions"
   ]
  },
  {
   "cell_type": "markdown",
   "metadata": {},
   "source": [
    "Execute the model"
   ]
  },
  {
   "cell_type": "code",
   "execution_count": 2,
   "metadata": {},
   "outputs": [],
   "source": [
    "#predictors\n",
    "#X, Y are not included in this list since they will be added in the function\n",
    "X_columns = ['FC','SURF_TYP','SEG_LENGTH','AADT','LNS','BEG_STA','END_STA',\n",
    "             'SURF_WTH','MED_WTH','StreetLightAll','StreetLightOne','TreeDeb','TreeTrim','Potholes','hr_sin','hr_cos','day_sin','day_cos']#,'WeatherCond'\n",
    "categorical = ['FC','SURF_TYP']#'PRK_LT','PRK_RT','WeatherCond'\n",
    "floating = ['SEG_LENGTH','AADT','hr_sin','hr_cos','day_sin','day_cos','BEG_STA','END_STA']\n",
    "integer = ['LNS','SURF_WTH','MED_WTH','StreetLightAll','StreetLightOne','TreeDeb','TreeTrim','Potholes']"
   ]
  },
  {
   "cell_type": "markdown",
   "metadata": {},
   "source": [
    "Here the model, one-hot-encoder and scalar should be the ones trained in the previous steps (i.e. crash model), so they are loaded into the models.<br>\n",
    "The risk is calculated and saved to the local directory as csv files."
   ]
  },
  {
   "cell_type": "code",
   "execution_count": 3,
   "metadata": {},
   "outputs": [
    {
     "name": "stdout",
     "output_type": "stream",
     "text": [
      "Graph load completed...\n",
      "Model load completed...\n",
      "Done inserting customized variables!\n",
      "Done predicting risks!\n",
      "Done re-creating variable list.\n",
      "Done creating sample matrix.\n",
      "Graph saved to csv file!\n",
      "158.467999935 seconds to execute the prediction and save the results.\n"
     ]
    }
   ],
   "source": [
    "#load the road network\n",
    "G = nx.Graph()\n",
    "G = pickle.load(open(\"./output/all_info_count2015.p\", 'rb'))\n",
    "print \"Graph load completed...\"\n",
    "\n",
    "#load the trained model\n",
    "rf = pickle.load(open('./output/randomforest_crash.p','rb'))\n",
    "ohe = pickle.load(open('./output/ohe.p','rb'))\n",
    "labEncoder = pickle.load(open('./output/labEncoder.p','rb'))\n",
    "sscaler = pickle.load(open('./output/sscaler.p','rb'))\n",
    "print \"Model load completed...\"\n",
    "\n",
    "#specify the output file names\n",
    "csv_file = './output/ClearNineSun.csv'\n",
    "#json_file = './output/ClearNineSun.geojson'\n",
    "\n",
    "\n",
    "utility_functions.predict_crash_risk(G, 9, 'Sunday', X_columns, categorical, floating, integer, rf, ohe, labEncoder, sscaler, csv_file)#, json_file"
   ]
  }
 ],
 "metadata": {
  "kernelspec": {
   "display_name": "Python 2",
   "language": "python",
   "name": "python2"
  },
  "language_info": {
   "codemirror_mode": {
    "name": "ipython",
    "version": 2
   },
   "file_extension": ".py",
   "mimetype": "text/x-python",
   "name": "python",
   "nbconvert_exporter": "python",
   "pygments_lexer": "ipython2",
   "version": "2.7.15"
  }
 },
 "nbformat": 4,
 "nbformat_minor": 2
}
